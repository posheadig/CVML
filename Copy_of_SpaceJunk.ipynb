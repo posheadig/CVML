{
  "nbformat": 4,
  "nbformat_minor": 0,
  "metadata": {
    "colab": {
      "name": "Copy of SpaceJunk.ipynb",
      "provenance": [],
      "collapsed_sections": [],
      "include_colab_link": true
    },
    "kernelspec": {
      "name": "python3",
      "display_name": "Python 3"
    }
  },
  "cells": [
    {
      "cell_type": "markdown",
      "metadata": {
        "id": "view-in-github",
        "colab_type": "text"
      },
      "source": [
        "<a href=\"https://colab.research.google.com/github/posheadig/CVML/blob/master/Copy_of_SpaceJunk.ipynb\" target=\"_parent\"><img src=\"https://colab.research.google.com/assets/colab-badge.svg\" alt=\"Open In Colab\"/></a>"
      ]
    },
    {
      "cell_type": "code",
      "metadata": {
        "id": "kEIf7cFo5SUt",
        "colab_type": "code",
        "colab": {}
      },
      "source": [
        "# Compute TLE Trajectories"
      ],
      "execution_count": 0,
      "outputs": []
    },
    {
      "cell_type": "code",
      "metadata": {
        "id": "CpOl3VI75WUR",
        "colab_type": "code",
        "outputId": "30eac2a1-4222-4725-c100-e345f5406858",
        "colab": {
          "base_uri": "https://localhost:8080/",
          "height": 173
        }
      },
      "source": [
        "# Install dependencies.\n",
        "!pip install skyfield pandas"
      ],
      "execution_count": 6,
      "outputs": [
        {
          "output_type": "stream",
          "text": [
            "Requirement already satisfied: skyfield in /usr/local/lib/python3.6/dist-packages (1.18)\n",
            "Requirement already satisfied: pandas in /usr/local/lib/python3.6/dist-packages (1.0.3)\n",
            "Requirement already satisfied: numpy in /usr/local/lib/python3.6/dist-packages (from skyfield) (1.18.2)\n",
            "Requirement already satisfied: jplephem>=2.11 in /usr/local/lib/python3.6/dist-packages (from skyfield) (2.14)\n",
            "Requirement already satisfied: sgp4>=2.2 in /usr/local/lib/python3.6/dist-packages (from skyfield) (2.6)\n",
            "Requirement already satisfied: python-dateutil>=2.6.1 in /usr/local/lib/python3.6/dist-packages (from pandas) (2.8.1)\n",
            "Requirement already satisfied: pytz>=2017.2 in /usr/local/lib/python3.6/dist-packages (from pandas) (2018.9)\n",
            "Requirement already satisfied: six>=1.5 in /usr/local/lib/python3.6/dist-packages (from python-dateutil>=2.6.1->pandas) (1.12.0)\n"
          ],
          "name": "stdout"
        }
      ]
    },
    {
      "cell_type": "code",
      "metadata": {
        "id": "1z46UA156JxI",
        "colab_type": "code",
        "colab": {}
      },
      "source": [
        "from skyfield.api import Topos, load, utc\n",
        "import json\n",
        "import numpy as np\n",
        "import pandas as pd \n",
        "import datetime\n",
        "\n"
      ],
      "execution_count": 0,
      "outputs": []
    },
    {
      "cell_type": "code",
      "metadata": {
        "id": "tK2OTDAF7KGz",
        "colab_type": "code",
        "outputId": "f2495ef0-2d47-4c49-a78a-43b40f62e4d9",
        "colab": {
          "base_uri": "https://localhost:8080/",
          "height": 34
        }
      },
      "source": [
        "# Here we load a bunch of satellites.\n",
        "stations_url = 'http://celestrak.com/NORAD/elements/stations.txt'\n",
        "satellites = load.tle_file(stations_url)\n",
        "print('Loaded', len(satellites), 'satellites')\n"
      ],
      "execution_count": 34,
      "outputs": [
        {
          "output_type": "stream",
          "text": [
            "Loaded 69 satellites\n"
          ],
          "name": "stdout"
        }
      ]
    },
    {
      "cell_type": "code",
      "metadata": {
        "id": "ToWJErKP9Rkt",
        "colab_type": "code",
        "outputId": "ddc4843d-2b62-47d0-8584-670530a1134b",
        "colab": {
          "base_uri": "https://localhost:8080/",
          "height": 34
        }
      },
      "source": [
        "# Here we iterate through the satellites to take a look ..\n",
        "for s in satellites[:1]:\n",
        "  print(s.name)  \n",
        "  "
      ],
      "execution_count": 49,
      "outputs": [
        {
          "output_type": "stream",
          "text": [
            "ISS (ZARYA)\n"
          ],
          "name": "stdout"
        }
      ]
    },
    {
      "cell_type": "code",
      "metadata": {
        "id": "GiRS4q466gCU",
        "colab_type": "code",
        "outputId": "4bee7e53-3202-41a9-8bfc-89d8b24094a3",
        "colab": {
          "base_uri": "https://localhost:8080/",
          "height": 221
        }
      },
      "source": [
        "# Generate a bunch of times in the future to calculate positions at.\n",
        "\n",
        "# Function reference is here\n",
        "# https://pandas.pydata.org/pandas-docs/stable/reference/api/pandas.date_range.html\n",
        "\n",
        "# Generate one week's worth of times, hourly.\n",
        "# times = pd.date_range('2020-10-01', periods=7*24, freq='1H')\n",
        "\n",
        "# Generate one days's worth of times, every 10 minutes for 24 hours.\n",
        "times = pd.date_range('2020-10-01', periods=1*6*24, freq='10min')\n",
        "times\n"
      ],
      "execution_count": 43,
      "outputs": [
        {
          "output_type": "execute_result",
          "data": {
            "text/plain": [
              "DatetimeIndex(['2020-10-01 00:00:00', '2020-10-01 00:10:00',\n",
              "               '2020-10-01 00:20:00', '2020-10-01 00:30:00',\n",
              "               '2020-10-01 00:40:00', '2020-10-01 00:50:00',\n",
              "               '2020-10-01 01:00:00', '2020-10-01 01:10:00',\n",
              "               '2020-10-01 01:20:00', '2020-10-01 01:30:00',\n",
              "               ...\n",
              "               '2020-10-01 22:20:00', '2020-10-01 22:30:00',\n",
              "               '2020-10-01 22:40:00', '2020-10-01 22:50:00',\n",
              "               '2020-10-01 23:00:00', '2020-10-01 23:10:00',\n",
              "               '2020-10-01 23:20:00', '2020-10-01 23:30:00',\n",
              "               '2020-10-01 23:40:00', '2020-10-01 23:50:00'],\n",
              "              dtype='datetime64[ns]', length=144, freq='10T')"
            ]
          },
          "metadata": {
            "tags": []
          },
          "execution_count": 43
        }
      ]
    },
    {
      "cell_type": "code",
      "metadata": {
        "id": "hsbD_e3l7OfS",
        "colab_type": "code",
        "colab": {}
      },
      "source": [
        "# Iterate all satellites for all times ...\n",
        "# https://rhodesmill.org/skyfield/earth-satellites.html\n",
        "\n",
        "ts = load.timescale()\n",
        "\n",
        "entries = []\n",
        "\n",
        "# Iterates all satellites in the TLE that was loaded.\n",
        "for satellite in satellites[:1]:\n",
        "  entry = { }\n",
        "  entry['name'] = satellite.name\n",
        "  xyzts = []\n",
        "  for time in times:\n",
        "    # Convert my timestamp to skyfield data type.\n",
        "    t = ts.utc(pd.to_datetime(time, utc=True))\n",
        "\n",
        "    # Ask for position data at the given time.\n",
        "    geocentric = satellite.at(t)\n",
        "\n",
        "    # Place data into a data structure.\n",
        "    xyzt = {}\n",
        "    xyzt['x'] = geocentric.position.km[0] # Get x\n",
        "    xyzt['y'] = geocentric.position.km[1] # Get y\n",
        "    xyzt['z'] = geocentric.position.km[2] # Get z\n",
        "    xyzt['t'] = t.utc_datetime().timestamp() # Convert the time to epoch milliseconds\n",
        "    xyzts.append(xyzt)\n",
        "  entry['xyzts'] = xyzts\n",
        "  entries.append(entry)"
      ],
      "execution_count": 0,
      "outputs": []
    },
    {
      "cell_type": "code",
      "metadata": {
        "id": "6g3wdyQ1-1L0",
        "colab_type": "code",
        "colab": {}
      },
      "source": [
        ""
      ],
      "execution_count": 0,
      "outputs": []
    },
    {
      "cell_type": "code",
      "metadata": {
        "id": "MRYtZWiPGeeq",
        "colab_type": "code",
        "colab": {}
      },
      "source": [
        "# This data.json file will be over to the left in the folder ... button thing.\n",
        "with open('data.json', 'w') as outfile:\n",
        "    json.dump(entries, outfile)\n"
      ],
      "execution_count": 0,
      "outputs": []
    },
    {
      "cell_type": "code",
      "metadata": {
        "id": "5AdpDuXuLja_",
        "colab_type": "code",
        "colab": {}
      },
      "source": [
        ""
      ],
      "execution_count": 0,
      "outputs": []
    }
  ]
}